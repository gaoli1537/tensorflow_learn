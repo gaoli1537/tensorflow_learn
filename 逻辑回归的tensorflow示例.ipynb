{
 "cells": [
  {
   "cell_type": "code",
   "execution_count": 11,
   "metadata": {},
   "outputs": [
    {
     "data": {
      "text/plain": [
       "[<matplotlib.lines.Line2D at 0x24b73dfbe48>]"
      ]
     },
     "execution_count": 11,
     "metadata": {},
     "output_type": "execute_result"
    },
    {
     "data": {
      "image/png": "[encoded data removed]",
      "text/plain": [
       "<Figure size 432x288 with 1 Axes>"
      ]
     },
     "metadata": {
      "needs_background": "light"
     },
     "output_type": "display_data"
    }
   ],
   "source": [
    "#随机生成一个有噪音的y=2x图\n",
    "\n",
    "import tensorflow as tf\n",
    "import numpy as np\n",
    "import matplotlib.pyplot as plt\n",
    "\n",
    "train_x=np.linspace(-1,1,100)\n",
    "train_y=2*train_x+np.random.randn(train_x.shape[0])*0.2\n",
    "#等同于\n",
    "#train_y=2*train_x+np.random.randn(*train_x.shape)*0.2\n",
    "\n",
    "plt.plot(train_x,train_y,'bo')"
   ]
  },
  {
   "cell_type": "code",
   "execution_count": 14,
   "metadata": {},
   "outputs": [],
   "source": [
    "#正向模型搭建\n",
    "#定义占位符\n",
    "X=tf.placeholder(\"float32\")\n",
    "Y=tf.placeholder(\"float32\")\n",
    "#定义模型参数\n",
    "W=tf.Variable(tf.random_normal([1]),name=\"wight\")\n",
    "b=tf.Variable(tf.zeros([1]),name=\"bias\")\n",
    "z=tf.multiply(W,X)+b"
   ]
  },
  {
   "cell_type": "code",
   "execution_count": 15,
   "metadata": {},
   "outputs": [],
   "source": [
    "##反向模型搭建\n",
    "cost=tf.reduce_mean(tf.square(Y-z))\n",
    "learing_rate=0.001\n",
    "optimizer=tf.train.GradientDescentOptimizer(learing_rate).minimize(cost)"
   ]
  },
  {
   "cell_type": "code",
   "execution_count": 32,
   "metadata": {},
   "outputs": [
    {
     "name": "stdout",
     "output_type": "stream",
     "text": [
      "Epoch= 1 cost= 0.8435198 W= [0.43762702] b= [0.01131339]\n",
      "Epoch= 6 cost= 0.44828835 W= [0.8799518] b= [0.03811621]\n",
      "Epoch= 11 cost= 0.24775663 W= [1.1952415] b= [0.04175337]\n",
      "Epoch= 16 cost= 0.14594086 W= [1.4197644] b= [0.03867241]\n",
      "Epoch= 21 cost= 0.09430532 W= [1.5795707] b= [0.03439838]\n",
      "Epoch= 26 cost= 0.068145044 W= [1.6932851] b= [0.03059296]\n",
      "Epoch= 31 cost= 0.05490024 W= [1.7741914] b= [0.02760482]\n",
      "Epoch= 36 cost= 0.048197497 W= [1.8317508] b= [0.0253759]\n",
      "Epoch= 41 cost= 0.044806603 W= [1.8726989] b= [0.02375237]\n",
      "Epoch= 46 cost= 0.043091625 W= [1.9018303] b= [0.02258345]\n",
      "Epoch= 51 cost= 0.042224664 W= [1.9225527] b= [0.02174681]\n",
      "Epoch= 56 cost= 0.041786533 W= [1.9372948] b= [0.02114978]\n",
      "Epoch= 61 cost= 0.041565254 W= [1.9477826] b= [0.02072432]\n",
      "Epoch= 66 cost= 0.04145359 W= [1.9552441] b= [0.0204214]\n",
      "Epoch= 71 cost= 0.04139733 W= [1.960551] b= [0.02020584]\n",
      "Epoch= 76 cost= 0.041369017 W= [1.9643265] b= [0.02005245]\n",
      "Epoch= 81 cost= 0.04135481 W= [1.967012] b= [0.01994333]\n",
      "Epoch= 86 cost= 0.04134771 W= [1.9689223] b= [0.0198657]\n",
      "Epoch= 91 cost= 0.041344166 W= [1.9702821] b= [0.01981044]\n",
      "Epoch= 96 cost= 0.041342422 W= [1.9712492] b= [0.01977113]\n",
      "finished!\n",
      "cost= 0.041341692 W= [1.9718182] b= [0.01974802]\n"
     ]
    },
    {
     "data": {
      "image/png": "[encoded data removed]",
      "text/plain": [
       "<Figure size 432x288 with 1 Axes>"
      ]
     },
     "metadata": {
      "needs_background": "light"
     },
     "output_type": "display_data"
    },
    {
     "data": {
      "image/png": "[encoded data removed]",
      "text/plain": [
       "<Figure size 432x288 with 1 Axes>"
      ]
     },
     "metadata": {
      "needs_background": "light"
     },
     "output_type": "display_data"
    },
    {
     "name": "stdout",
     "output_type": "stream",
     "text": [
      "x=0.2,z= [0.41411164]\n"
     ]
    }
   ],
   "source": [
    "#迭代训练模型\n",
    "init=tf.global_variables_initializer()\n",
    "\n",
    "training_epochs=100\n",
    "dispaly_step=5\n",
    "\n",
    "with tf.Session() as sess:\n",
    "    sess.run(init)\n",
    "    \n",
    "    plotdata={\"batchsize\":[],\"loss\":[]}\n",
    "    \n",
    "    for epoch in range(training_epochs):\n",
    "        for (x,y) in zip(train_x,train_y):\n",
    "            sess.run(optimizer,feed_dict={X:x,Y:y})\n",
    "        if epoch %dispaly_step==0:\n",
    "            loss=sess.run(cost,feed_dict={X:train_x,Y:train_y})\n",
    "            print(\"Epoch=\",epoch+1,\"cost=\",loss,\"W=\",sess.run(W),\"b=\",sess.run(b))\n",
    "            if not(loss==\"NA\"):\n",
    "                plotdata[\"batchsize\"].append(epoch)\n",
    "                plotdata[\"loss\"].append(loss)\n",
    "    print(\"finished!\")\n",
    "    print(\"cost=\",sess.run(cost,feed_dict={X:train_x,Y:train_y}),\"W=\",sess.run(W),\"b=\",sess.run(b))\n",
    "    \n",
    "    plt.plot(train_x,train_y,'bo',label=\"Original data\")\n",
    "    plt.plot(train_x,sess.run(W)*train_x+sess.run(b),label=\"FittedLine\")\n",
    "    plt.legend()\n",
    "    plt.show()\n",
    "    \n",
    "   # plotdata[\"avgloss\"]=moving_average(plotdata[\"loss\"])\n",
    "    plt.figure(1)\n",
    "    plt.subplot(211)\n",
    "    plt.plot(plotdata[\"batchsize\"],plotdata[\"loss\"],\"b--\")\n",
    "    plt.show()\n",
    "    \n",
    "    \n",
    "    print(\"x=0.2,z=\",sess.run(z,feed_dict={X:0.2}))"
   ]
  }
 ],
 "metadata": {
  "kernelspec": {
   "display_name": "Python 3",
   "language": "python",
   "name": "python3"
  },
  "language_info": {
   "codemirror_mode": {
    "name": "ipython",
    "version": 3
   },
   "file_extension": ".py",
   "mimetype": "text/x-python",
   "name": "python",
   "nbconvert_exporter": "python",
   "pygments_lexer": "ipython3",
   "version": "3.5.4"
  }
 },
 "nbformat": 4,
 "nbformat_minor": 2
}
