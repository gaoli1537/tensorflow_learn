{
 "cells": [
  {
   "cell_type": "markdown",
   "metadata": {},
   "source": [
    "## 线性回归的TensorBoard的使用方法"
   ]
  },
  {
   "cell_type": "code",
   "execution_count": 1,
   "metadata": {},
   "outputs": [
    {
     "name": "stdout",
     "output_type": "stream",
     "text": [
      "Epoch= 1 cost= 0.05277101 W= [1.7636517] b= [0.01116825]\n",
      "Epoch= 6 cost= 0.04374114 W= [1.8228621] b= [0.04228429]\n",
      "Epoch= 11 cost= 0.039844844 W= [1.8654532] b= [0.05286822]\n",
      "Epoch= 16 cost= 0.03792941 W= [1.8959249] b= [0.05615382]\n",
      "Epoch= 21 cost= 0.036955718 W= [1.9176637] b= [0.05693232]\n",
      "Epoch= 26 cost= 0.036457047 W= [1.9331527] b= [0.05691342]\n",
      "Epoch= 31 cost= 0.036200985 W= [1.9441799] b= [0.05668959]\n",
      "Epoch= 36 cost= 0.03606906 W= [1.9520282] b= [0.05645309]\n",
      "Epoch= 41 cost= 0.03600074 W= [1.9576116] b= [0.05625649]\n",
      "Epoch= 46 cost= 0.03596507 W= [1.9615854] b= [0.05610608]\n",
      "Epoch= 51 cost= 0.035946265 W= [1.9644104] b= [0.0559954]\n",
      "Epoch= 56 cost= 0.035936207 W= [1.9664214] b= [0.05591514]\n",
      "Epoch= 61 cost= 0.03593073 W= [1.9678534] b= [0.05585751]\n",
      "Epoch= 66 cost= 0.035927683 W= [1.9688714] b= [0.05581635]\n",
      "Epoch= 71 cost= 0.035925943 W= [1.9695956] b= [0.05578701]\n",
      "Epoch= 76 cost= 0.035924934 W= [1.9701097] b= [0.05576613]\n",
      "Epoch= 81 cost= 0.03592432 W= [1.9704767] b= [0.05575125]\n",
      "Epoch= 86 cost= 0.035923943 W= [1.9707358] b= [0.05574072]\n",
      "Epoch= 91 cost= 0.0359237 W= [1.9709207] b= [0.05573321]\n",
      "Epoch= 96 cost= 0.03592354 W= [1.9710522] b= [0.05572788]\n",
      "finished!\n",
      "cost= 0.035923455 W= [1.971129] b= [0.05572475]\n",
      "x=0.2,z= [0.44995055]\n"
     ]
    }
   ],
   "source": [
    "import tensorflow as tf\n",
    "import numpy as np\n",
    "import matplotlib.pyplot as plt\n",
    "\n",
    "train_x=np.linspace(-1,1,100)\n",
    "train_y=2*train_x+np.random.randn(train_x.shape[0])*0.2\n",
    "X=tf.placeholder(\"float32\")\n",
    "Y=tf.placeholder(\"float32\")\n",
    "W=tf.Variable(tf.random_normal([1]),name=\"wight\")\n",
    "b=tf.Variable(tf.zeros([1]),name=\"bias\")\n",
    "z=tf.multiply(W,X)+b\n",
    "\n",
    "##创建z的直方图\n",
    "tf.summary.histogram('z',z)\n",
    "\n",
    "cost=tf.reduce_mean(tf.square(Y-z))\n",
    "\n",
    "\n",
    "#创建cost的刻度图\n",
    "tf.summary.scalar(\"loss_function\",cost)\n",
    "\n",
    "learing_rate=0.001\n",
    "optimizer=tf.train.GradientDescentOptimizer(learing_rate).minimize(cost)\n",
    "\n",
    "\n",
    "init=tf.global_variables_initializer()\n",
    "\n",
    "training_epochs=100\n",
    "dispaly_step=5\n",
    "\n",
    "\n",
    "saver=tf.train.Saver()\n",
    "savedir=\"./model_saver/\"\n",
    "\n",
    "with tf.Session() as sess:\n",
    "    sess.run(init)\n",
    "    \n",
    "    merge_summy_op=tf.summary.merge_all()\n",
    "    summary_writer=tf.summary.FileWriter(\"./mnist_with_summaeies\",sess.graph)\n",
    "    \n",
    "    plotdata={\"batchsize\":[],\"loss\":[]}\n",
    "    \n",
    "    for epoch in range(training_epochs):\n",
    "        for (x,y) in zip(train_x,train_y):\n",
    "            sess.run(optimizer,feed_dict={X:x,Y:y})\n",
    "        summary_str=sess.run(merge_summy_op,feed_dict={X:x,Y:y}) \n",
    "        summary_writer.add_summary(summary_str,epoch)\n",
    "            \n",
    "            \n",
    "        if epoch %dispaly_step==0:\n",
    "            loss=sess.run(cost,feed_dict={X:train_x,Y:train_y})\n",
    "            print(\"Epoch=\",epoch+1,\"cost=\",loss,\"W=\",sess.run(W),\"b=\",sess.run(b))\n",
    "            if not(loss==\"NA\"):\n",
    "                plotdata[\"batchsize\"].append(epoch)\n",
    "                plotdata[\"loss\"].append(loss)\n",
    "    print(\"finished!\")\n",
    "   \n",
    "    print(\"cost=\",sess.run(cost,feed_dict={X:train_x,Y:train_y}),\"W=\",sess.run(W),\"b=\",sess.run(b))\n",
    "    \n",
    "    print(\"x=0.2,z=\",sess.run(z,feed_dict={X:0.2}))\n"
   ]
  },
  {
   "cell_type": "code",
   "execution_count": null,
   "metadata": {},
   "outputs": [],
   "source": []
  }
 ],
 "metadata": {
  "kernelspec": {
   "display_name": "Python 3",
   "language": "python",
   "name": "python3"
  },
  "language_info": {
   "codemirror_mode": {
    "name": "ipython",
    "version": 3
   },
   "file_extension": ".py",
   "mimetype": "text/x-python",
   "name": "python",
   "nbconvert_exporter": "python",
   "pygments_lexer": "ipython3",
   "version": "3.6.7"
  }
 },
 "nbformat": 4,
 "nbformat_minor": 2
}
