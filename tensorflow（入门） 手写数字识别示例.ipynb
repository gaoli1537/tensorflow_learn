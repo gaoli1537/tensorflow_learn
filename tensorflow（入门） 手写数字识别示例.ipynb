{
 "cells": [
  {
   "cell_type": "markdown",
   "metadata": {},
   "source": [
    "# 手写数字识别"
   ]
  },
  {
   "cell_type": "markdown",
   "metadata": {},
   "source": [
    "### 读取数据"
   ]
  },
  {
   "cell_type": "code",
   "execution_count": 59,
   "metadata": {},
   "outputs": [
    {
     "name": "stdout",
     "output_type": "stream",
     "text": [
      "Extracting C:\\Users\\wycmg\\data_set\\mnist\\train-images-idx3-ubyte.gz\n",
      "Extracting C:\\Users\\wycmg\\data_set\\mnist\\train-labels-idx1-ubyte.gz\n",
      "Extracting C:\\Users\\wycmg\\data_set\\mnist\\t10k-images-idx3-ubyte.gz\n",
      "Extracting C:\\Users\\wycmg\\data_set\\mnist\\t10k-labels-idx1-ubyte.gz\n"
     ]
    }
   ],
   "source": [
    "from tensorflow.examples.tutorials.mnist import input_data\n",
    "Folder=\"C:\\\\Users\\\\wycmg\\\\data_set\\\\mnist\"\n",
    "mnist=input_data.read_data_sets(Folder,one_hot=True)"
   ]
  },
  {
   "cell_type": "markdown",
   "metadata": {},
   "source": [
    "## 打印图片数据"
   ]
  },
  {
   "cell_type": "code",
   "execution_count": 3,
   "metadata": {},
   "outputs": [
    {
     "name": "stdout",
     "output_type": "stream",
     "text": [
      "输入数据: [[0. 0. 0. ... 0. 0. 0.]\n",
      " [0. 0. 0. ... 0. 0. 0.]\n",
      " [0. 0. 0. ... 0. 0. 0.]\n",
      " ...\n",
      " [0. 0. 0. ... 0. 0. 0.]\n",
      " [0. 0. 0. ... 0. 0. 0.]\n",
      " [0. 0. 0. ... 0. 0. 0.]]\n",
      "输入数据打印shape: (55000, 784)\n"
     ]
    },
    {
     "data": {
      "image/png": "[encoded data removed]",
      "text/plain": [
       "<Figure size 432x288 with 1 Axes>"
      ]
     },
     "metadata": {},
     "output_type": "display_data"
    }
   ],
   "source": [
    "print(\"输入数据:\",mnist.train.images)\n",
    "print(\"输入数据打印shape:\",mnist.train.images.shape)\n",
    "\n",
    "import pylab\n",
    "im=mnist.train.images[1]\n",
    "im=im.reshape(28,28)\n",
    "pylab.imshow(im)\n",
    "pylab.show()\n"
   ]
  },
  {
   "cell_type": "markdown",
   "metadata": {},
   "source": [
    "### 对模型进行训练"
   ]
  },
  {
   "cell_type": "code",
   "execution_count": 20,
   "metadata": {},
   "outputs": [
    {
     "name": "stdout",
     "output_type": "stream",
     "text": [
      "Epoch: 1 cost= 8.413311454686244\n",
      "Epoch: 2 cost= 4.410791150022635\n",
      "Epoch: 3 cost= 3.0637753695886247\n",
      "Epoch: 4 cost= 2.4290291727850604\n",
      "Epoch: 5 cost= 2.0619775535859675\n",
      "Epoch: 6 cost= 1.821569282016206\n",
      "Epoch: 7 cost= 1.6503578068904448\n",
      "Epoch: 8 cost= 1.5217377204902018\n",
      "Epoch: 9 cost= 1.421281917459415\n",
      "Epoch: 10 cost= 1.3402216639686553\n",
      "Epoch: 11 cost= 1.2731331290722487\n",
      "Epoch: 12 cost= 1.2163815390107657\n",
      "Epoch: 13 cost= 1.1678666297287905\n",
      "Epoch: 14 cost= 1.1254484797060027\n",
      "Epoch: 15 cost= 1.0881764416870119\n",
      "Epoch: 16 cost= 1.0549061655528351\n",
      "Epoch: 17 cost= 1.025181390150768\n",
      "Epoch: 18 cost= 0.9982583443079888\n",
      "Epoch: 19 cost= 0.9735374023460215\n",
      "Epoch: 20 cost= 0.9512753867549311\n",
      "0.8127\n",
      "finished!\n"
     ]
    }
   ],
   "source": [
    "import tensorflow as tf\n",
    "\n",
    "tf.reset_default_graph()\n",
    "\n",
    "#1.定义相关占位符与变量 \n",
    "\n",
    "#none 表示这个张量可以是任意长度\n",
    "x=tf.placeholder(tf.float32,[None,784])\n",
    "y=tf.placeholder(tf.float32,[None,10])\n",
    "\n",
    "\n",
    "W=tf.Variable(tf.random_normal([784,10]))\n",
    "b=tf.Variable(tf.zeros([10]))\n",
    "\n",
    "#2.定义softmax分类器\n",
    "pred=tf.nn.softmax(tf.matmul(x,W)+b)\n",
    "\n",
    "#3.定义损失loss函数\n",
    "cost=tf.reduce_mean(-tf.reduce_sum(y*tf.log(pred),reduction_indices=1))\n",
    "\n",
    "learn_rate=0.001\n",
    "\n",
    "#4.定义反向函数\n",
    "optmizer=tf.train.GradientDescentOptimizer(learn_rate).minimize(cost)\n",
    "\n",
    "#定义模型保存模块\n",
    "saver=tf.train.Saver()\n",
    "model_path=\"C:\\\\Users\\\\wycmg\\\\data_set\\\\model_data\\\\mnist_\"\n",
    "\n",
    "training_epochs=20\n",
    "batch_size=10\n",
    "display_step=1\n",
    "\n",
    "#5. 执行\n",
    "with tf.Session() as sess:\n",
    "    sess.run(tf.global_variables_initializer())\n",
    "    \n",
    "    for epoch in range(training_epochs):\n",
    "        \n",
    "        avg_cost=0\n",
    "        total_batch=int(mnist.train.num_examples/batch_size)\n",
    "        \n",
    "        for i in range(total_batch):\n",
    "            \n",
    "            batch_xs,batch_ys=mnist.train.next_batch(batch_size)\n",
    "            _,c=sess.run([optmizer,cost],feed_dict={x:batch_xs,y:batch_ys})\n",
    "            avg_cost+=c /total_batch\n",
    "            \n",
    "        if(epoch+1) %display_step ==0:\n",
    "            print (\"Epoch:\",epoch+1,\"cost=\",avg_cost)\n",
    "            correct_prediction=tf.equal(tf.arg_max(pred,1),tf.arg_max(y,1))\n",
    "            accuracy=tf.reduce_mean(tf.cast(correct_prediction,tf.float32))\n",
    "            \n",
    "    result=accuracy.eval({x:mnist.test.images,y:mnist.test.labels})\n",
    "    print(result)\n",
    "        \n",
    "    \n",
    "    \n",
    "    \n",
    "    save_path=saver.save(sess,model_path)\n",
    "    print(\"finished!\")"
   ]
  },
  {
   "cell_type": "code",
   "execution_count": 58,
   "metadata": {},
   "outputs": [
    {
     "name": "stdout",
     "output_type": "stream",
     "text": [
      "strating Session2\n",
      "INFO:tensorflow:Restoring parameters from C:\\Users\\wycmg\\data_set\\model_data\\mnist_\n",
      "0.8127\n",
      "[5 1] [[0. 0. 0. 0. 0. 1. 0. 0. 0. 0.]\n",
      " [0. 1. 0. 0. 0. 0. 0. 0. 0. 0.]]\n"
     ]
    },
    {
     "data": {
      "image/png": "[encoded data removed]",
      "text/plain": [
       "<Figure size 432x288 with 1 Axes>"
      ]
     },
     "metadata": {},
     "output_type": "display_data"
    },
    {
     "data": {
      "image/png": "[encoded data removed]",
      "text/plain": [
       "<Figure size 432x288 with 1 Axes>"
      ]
     },
     "metadata": {},
     "output_type": "display_data"
    }
   ],
   "source": [
    "##读取模型时必须还原定义的占位符以及变量 \n",
    "\n",
    "print(\"strating Session2\")\n",
    "\n",
    "\n",
    "tf.reset_default_graph()\n",
    "#none 表示这个张量可以是任意长度\n",
    "x=tf.placeholder(tf.float32,[None,784])\n",
    "y=tf.placeholder(tf.float32,[None,10])\n",
    "\n",
    "\n",
    "W=tf.Variable(tf.random_normal([784,10]))\n",
    "b=tf.Variable(tf.zeros([10]))\n",
    "\n",
    "pred=tf.nn.softmax(tf.matmul(x,W)+b)\n",
    "\n",
    "\n",
    "cost=tf.reduce_mean(-tf.reduce_sum(y*tf.log(pred),reduction_indices=1))\n",
    "\n",
    "learn_rate=0.001\n",
    "\n",
    "optmizer=tf.train.GradientDescentOptimizer(learn_rate).minimize(cost)\n",
    "\n",
    "saver1=tf.train.Saver()\n",
    "model_path=\"C:\\\\Users\\\\wycmg\\\\data_set\\\\model_data\\\\mnist_\"\n",
    "\n",
    "with tf.Session() as sess2:\n",
    "   \n",
    "    sess2.run(tf.global_variables_initializer())\n",
    "    \n",
    "    \n",
    "    \n",
    "    saver1.restore(sess2,model_path)\n",
    "    \n",
    "    correct_prediction=tf.equal(tf.arg_max(pred,1),tf.arg_max(y,1))\n",
    "    accuracy=tf.reduce_mean(tf.cast(correct_prediction,tf.float32))\n",
    "    result=accuracy.eval({x:mnist.test.images,y:mnist.test.labels})\n",
    "    print(result)\n",
    "    \n",
    "    \n",
    "    output=tf.argmax(pred,1)\n",
    "    batch_xs,batch_ys=mnist.train.next_batch(2)\n",
    "    outputval=sess2.run(output,feed_dict={x:batch_xs,y:batch_ys})\n",
    "    print(outputval,batch_ys)\n",
    "    \n",
    "    import pylab\n",
    "    im=batch_xs[0]\n",
    "    im=im.reshape(28,28)\n",
    "    pylab.imshow(im)\n",
    "    pylab.show() \n",
    "    \n",
    "    im=batch_xs[1]\n",
    "    im=im.reshape(28,28)\n",
    "    pylab.imshow(im)\n",
    "    pylab.show()\n",
    "    "
   ]
  }
 ],
 "metadata": {
  "kernelspec": {
   "display_name": "Python 3",
   "language": "python",
   "name": "python3"
  },
  "language_info": {
   "codemirror_mode": {
    "name": "ipython",
    "version": 3
   },
   "file_extension": ".py",
   "mimetype": "text/x-python",
   "name": "python",
   "nbconvert_exporter": "python",
   "pygments_lexer": "ipython3",
   "version": "3.5.4"
  }
 },
 "nbformat": 4,
 "nbformat_minor": 2
}
