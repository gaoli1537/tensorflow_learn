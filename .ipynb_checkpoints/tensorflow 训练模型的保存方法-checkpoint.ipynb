{
 "cells": [
  {
   "cell_type": "markdown",
   "metadata": {},
   "source": [
    "## tensorflow 训练模型的保存方法"
   ]
  },
  {
   "cell_type": "code",
   "execution_count": null,
   "metadata": {},
   "outputs": [],
   "source": [
    "import tensorflow as tf\n",
    "import numpy as np\n",
    "import matplotlib.pyplot as plt\n",
    "\n",
    "train_x=np.linspace(-1,1,100)\n",
    "train_y=2*train_x+np.random.randn(train_x.shape[0])*0.2\n",
    "X=tf.placeholder(\"float32\")\n",
    "Y=tf.placeholder(\"float32\")\n",
    "W=tf.Variable(tf.random_normal([1]),name=\"wight\")\n",
    "b=tf.Variable(tf.zeros([1]),name=\"bias\")\n",
    "z=tf.multiply(W,X)+b\n",
    "\n",
    "\n",
    "cost=tf.reduce_mean(tf.square(Y-z))\n",
    "learing_rate=0.001\n",
    "optimizer=tf.train.GradientDescentOptimizer(learing_rate).minimize(cost)\n",
    "\n",
    "\n",
    "init=tf.global_variables_initializer()\n",
    "\n",
    "training_epochs=100\n",
    "dispaly_step=5\n",
    "\n",
    "\n",
    "##创建保存容器\n",
    "saver=tf.train.Saver()\n",
    "savedir=\"./model_saver/\"\n",
    "\n",
    "with tf.Session() as sess:\n",
    "    sess.run(init)\n",
    "    \n",
    "    plotdata={\"batchsize\":[],\"loss\":[]}\n",
    "    \n",
    "    for epoch in range(training_epochs):\n",
    "        for (x,y) in zip(train_x,train_y):\n",
    "            sess.run(optimizer,feed_dict={X:x,Y:y})\n",
    "        if epoch %dispaly_step==0:\n",
    "            loss=sess.run(cost,feed_dict={X:train_x,Y:train_y})\n",
    "            print(\"Epoch=\",epoch+1,\"cost=\",loss,\"W=\",sess.run(W),\"b=\",sess.run(b))\n",
    "            if not(loss==\"NA\"):\n",
    "                plotdata[\"batchsize\"].append(epoch)\n",
    "                plotdata[\"loss\"].append(loss)\n",
    "    print(\"finished!\")\n",
    "   \n",
    "    #在模型训练好以后 保存模型 \n",
    "    saver.save(sess,savedir+\"line_model\")\n",
    "    print(\"cost=\",sess.run(cost,feed_dict={X:train_x,Y:train_y}),\"W=\",sess.run(W),\"b=\",sess.run(b))\n"
   ]
  },
  {
   "cell_type": "markdown",
   "metadata": {},
   "source": [
    "### 模型的读取"
   ]
  },
  {
   "cell_type": "code",
   "execution_count": 4,
   "metadata": {},
   "outputs": [
    {
     "name": "stdout",
     "output_type": "stream",
     "text": [
      "INFO:tensorflow:Restoring parameters from ./model_saver/line_model\n",
      "x=0.2,z= [0.41364235]\n"
     ]
    }
   ],
   "source": [
    "#创建模型保存容器\n",
    "saver1=tf.train.Saver()\n",
    "with tf.Session() as sess_load:\n",
    "    #通过容器读取模型与参数\n",
    "    saver1.restore(sess_load,savedir+\"line_model\")\n",
    "    #使用之前训练好的模型进行测试\n",
    "    print(\"x=0.2,z=\",sess_load.run(z,feed_dict={X:0.2}))"
   ]
  },
  {
   "cell_type": "markdown",
   "metadata": {},
   "source": [
    "## 分析保存内容"
   ]
  },
  {
   "cell_type": "code",
   "execution_count": 9,
   "metadata": {},
   "outputs": [
    {
     "name": "stdout",
     "output_type": "stream",
     "text": [
      "tensor_name:  bias\n",
      "[0.]\n",
      "tensor_name:  bias_1\n",
      "[0.00886572]\n",
      "tensor_name:  wight\n",
      "[-0.36331117]\n",
      "tensor_name:  wight_1\n",
      "[2.023883]\n"
     ]
    }
   ],
   "source": [
    "from tensorflow.python.tools.inspect_checkpoint import print_tensors_in_checkpoint_file\n",
    "print_tensors_in_checkpoint_file(savedir+\"line_model\",None,True,False)"
   ]
  },
  {
   "cell_type": "markdown",
   "metadata": {},
   "source": [
    "## 在训练过程中保存检查点 以防止训练一半的模型被意外退出"
   ]
  },
  {
   "cell_type": "code",
   "execution_count": 12,
   "metadata": {},
   "outputs": [
    {
     "name": "stdout",
     "output_type": "stream",
     "text": [
      "Epoch= 1 cost= 1.1290435 W= [0.1643554] b= [0.01131622]\n",
      "Epoch= 6 cost= 0.593117 W= [0.679384] b= [0.0372299]\n",
      "Epoch= 11 cost= 0.32097217 W= [1.0464228] b= [0.03952287]\n",
      "Epoch= 16 cost= 0.18274519 W= [1.3077704] b= [0.03522424]\n",
      "Epoch= 21 cost= 0.11260551 W= [1.4937778] b= [0.0299879]\n",
      "Epoch= 26 cost= 0.07703889 W= [1.626132] b= [0.02546264]\n",
      "Epoch= 31 cost= 0.059007443 W= [1.7202986] b= [0.02194947]\n",
      "Epoch= 36 cost= 0.049864464 W= [1.7872916] b= [0.01934228]\n",
      "Epoch= 41 cost= 0.045226146 W= [1.8349514] b= [0.01744788]\n",
      "Epoch= 46 cost= 0.0428712 W= [1.868856] b= [0.01608567]\n",
      "Epoch= 51 cost= 0.04167405 W= [1.8929757] b= [0.01511125]\n",
      "Epoch= 56 cost= 0.041064434 W= [1.9101342] b= [0.01441609]\n",
      "Epoch= 61 cost= 0.040753234 W= [1.9223402] b= [0.01392087]\n",
      "Epoch= 66 cost= 0.040593833 W= [1.9310237] b= [0.01356829]\n",
      "Epoch= 71 cost= 0.040511798 W= [1.9372021] b= [0.01331734]\n",
      "Epoch= 76 cost= 0.04046932 W= [1.9415969] b= [0.01313877]\n",
      "Epoch= 81 cost= 0.040447135 W= [1.9447232] b= [0.01301171]\n",
      "Epoch= 86 cost= 0.040435433 W= [1.9469461] b= [0.0129214]\n",
      "Epoch= 91 cost= 0.040429153 W= [1.9485279] b= [0.01285713]\n",
      "Epoch= 96 cost= 0.04042573 W= [1.9496531] b= [0.01281142]\n",
      "finished!\n",
      "cost= 0.040424123 W= [1.9503151] b= [0.01278451]\n"
     ]
    }
   ],
   "source": [
    "import tensorflow as tf\n",
    "import numpy as np\n",
    "import matplotlib.pyplot as plt\n",
    "\n",
    "train_x=np.linspace(-1,1,100)\n",
    "train_y=2*train_x+np.random.randn(train_x.shape[0])*0.2\n",
    "X=tf.placeholder(\"float32\")\n",
    "Y=tf.placeholder(\"float32\")\n",
    "W=tf.Variable(tf.random_normal([1]),name=\"wight\")\n",
    "b=tf.Variable(tf.zeros([1]),name=\"bias\")\n",
    "z=tf.multiply(W,X)+b\n",
    "\n",
    "\n",
    "cost=tf.reduce_mean(tf.square(Y-z))\n",
    "learing_rate=0.001\n",
    "optimizer=tf.train.GradientDescentOptimizer(learing_rate).minimize(cost)\n",
    "\n",
    "\n",
    "init=tf.global_variables_initializer()\n",
    "\n",
    "training_epochs=100\n",
    "dispaly_step=5\n",
    "\n",
    "\n",
    "##创建保存容器，保存位置改变，但是只保存最后一次结果\n",
    "saver=tf.train.Saver(max_to_keep=1)\n",
    "savedir=\"./model_saver/\"\n",
    "\n",
    "with tf.Session() as sess:\n",
    "    sess.run(init)\n",
    "    \n",
    "    plotdata={\"batchsize\":[],\"loss\":[]}\n",
    "    \n",
    "    for epoch in range(training_epochs):\n",
    "        for (x,y) in zip(train_x,train_y):\n",
    "            sess.run(optimizer,feed_dict={X:x,Y:y})\n",
    "        if epoch %dispaly_step==0:\n",
    "            loss=sess.run(cost,feed_dict={X:train_x,Y:train_y})\n",
    "            print(\"Epoch=\",epoch+1,\"cost=\",loss,\"W=\",sess.run(W),\"b=\",sess.run(b))\n",
    "            if not(loss==\"NA\"):\n",
    "                plotdata[\"batchsize\"].append(epoch)\n",
    "                plotdata[\"loss\"].append(loss)\n",
    "            saver.save(sess,savedir+\"line_model\",global_step=epoch)\n",
    "    print(\"finished!\")\n",
    "    print(\"cost=\",sess.run(cost,feed_dict={X:train_x,Y:train_y}),\"W=\",sess.run(W),\"b=\",sess.run(b))\n",
    "\n"
   ]
  },
  {
   "cell_type": "code",
   "execution_count": 14,
   "metadata": {},
   "outputs": [
    {
     "name": "stdout",
     "output_type": "stream",
     "text": [
      "INFO:tensorflow:Restoring parameters from ./model_saver/line_model-95\n",
      "x=0.2,z= [0.40274206]\n"
     ]
    }
   ],
   "source": [
    "#创建模型保存容器\n",
    "saver1=tf.train.Saver()\n",
    "with tf.Session() as sess_load:\n",
    "    #通过容器读取模型与参数\n",
    "    saver1.restore(sess_load,savedir+\"line_model-95\")\n",
    "    #使用之前训练好的模型进行测试\n",
    "    print(\"x=0.2,z=\",sess_load.run(z,feed_dict={X:0.2}))"
   ]
  }
 ],
 "metadata": {
  "kernelspec": {
   "display_name": "Python 3",
   "language": "python",
   "name": "python3"
  },
  "language_info": {
   "codemirror_mode": {
    "name": "ipython",
    "version": 3
   },
   "file_extension": ".py",
   "mimetype": "text/x-python",
   "name": "python",
   "nbconvert_exporter": "python",
   "pygments_lexer": "ipython3",
   "version": "3.5.4"
  }
 },
 "nbformat": 4,
 "nbformat_minor": 2
}
